{
 "cells": [
  {
   "cell_type": "code",
   "execution_count": 7,
   "id": "dcbaa1af-0391-4f23-b47b-78cd7d2a8a75",
   "metadata": {},
   "outputs": [],
   "source": [
    "# Q2\n",
    "\n",
    "sentence = 'I want to become a Data Scientist'.lower()"
   ]
  },
  {
   "cell_type": "code",
   "execution_count": 8,
   "id": "9614a9d5-0649-41cc-b3b4-ecd77804d68e",
   "metadata": {},
   "outputs": [
    {
     "name": "stdout",
     "output_type": "stream",
     "text": [
      "i damg gl beclme a daga hciemgihg\n"
     ]
    }
   ],
   "source": [
    "dict = {'a':'z',\n",
    "       'b':'y',\n",
    "       'c':'x',\n",
    "       'd':'w',\n",
    "       'e':'v',\n",
    "       'f':'u',\n",
    "       'g':'t',\n",
    "       'h':'s',\n",
    "       'i':'r',\n",
    "       'j':'q',\n",
    "       'k':'p',\n",
    "       'l':'o',\n",
    "       'm':'n',\n",
    "       'n':'m',\n",
    "       'o':'l',\n",
    "       'p':'k',\n",
    "       'q':'j',\n",
    "       'r':'i',\n",
    "       's':'h',\n",
    "       't':'g',\n",
    "       'u':'f',\n",
    "       'v':'e',\n",
    "       'w':'d',\n",
    "       'x':'c',\n",
    "       'y':'b',\n",
    "       'z':'a',}\n",
    "\n",
    "\n",
    "num = sentence[::]\n",
    "\n",
    "# Replace vowels using loops\n",
    "for i in dict:\n",
    "\tnum = num.replace(i, dict[i])\n",
    "\n",
    "# f- strings which improves readability\n",
    "print(num)\n"
   ]
  },
  {
   "cell_type": "code",
   "execution_count": null,
   "id": "33cfd6a4-27e3-4acd-bf7f-7fa1fad75bab",
   "metadata": {},
   "outputs": [],
   "source": []
  }
 ],
 "metadata": {
  "kernelspec": {
   "display_name": "Python 3 (ipykernel)",
   "language": "python",
   "name": "python3"
  },
  "language_info": {
   "codemirror_mode": {
    "name": "ipython",
    "version": 3
   },
   "file_extension": ".py",
   "mimetype": "text/x-python",
   "name": "python",
   "nbconvert_exporter": "python",
   "pygments_lexer": "ipython3",
   "version": "3.10.8"
  }
 },
 "nbformat": 4,
 "nbformat_minor": 5
}
